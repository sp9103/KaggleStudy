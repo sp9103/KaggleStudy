{
 "cells": [
  {
   "cell_type": "code",
   "execution_count": 1,
   "metadata": {},
   "outputs": [],
   "source": [
    "import pandas as pd\n",
    "import numpy as np\n",
    "import xgboost as xgb\n",
    "\n",
    "np.random.seed(2019)"
   ]
  },
  {
   "cell_type": "code",
   "execution_count": 2,
   "metadata": {},
   "outputs": [
    {
     "name": "stderr",
     "output_type": "stream",
     "text": [
      "E:\\ProgramData\\Anaconda3\\envs\\dsc\\lib\\site-packages\\IPython\\core\\interactiveshell.py:2785: DtypeWarning: Columns (5,8,10,11,15) have mixed types. Specify dtype option on import or set low_memory=False.\n",
      "  interactivity=interactivity, compiler=compiler, result=result)\n",
      "E:\\ProgramData\\Anaconda3\\envs\\dsc\\lib\\site-packages\\IPython\\core\\interactiveshell.py:2785: DtypeWarning: Columns (15) have mixed types. Specify dtype option on import or set low_memory=False.\n",
      "  interactivity=interactivity, compiler=compiler, result=result)\n"
     ]
    }
   ],
   "source": [
    "# trn = pd.read_csv('./dataset/train_ver2.csv')\n",
    "trn = pd.read_csv('./dataset/train_delete_empty.csv')\n",
    "tst = pd.read_csv('./dataset/test_ver2.csv')"
   ]
  },
  {
   "cell_type": "markdown",
   "metadata": {},
   "source": [
    "# Preprocessing"
   ]
  },
  {
   "cell_type": "code",
   "execution_count": 3,
   "metadata": {},
   "outputs": [
    {
     "name": "stdout",
     "output_type": "stream",
     "text": [
      "before tranin set shape :  (11091070, 48)\n"
     ]
    }
   ],
   "source": [
    "print('before tranin set shape : ', trn.shape)\n",
    "prods = trn.columns[24:].tolist()\n",
    "\n",
    "trn[prods] = trn[prods].fillna(0.0).astype(np.int8)\n",
    "\n",
    "# # if some customer buy anyting, remove\n",
    "# no_product = trn[prods].sum(axis=1) == 0\n",
    "# trn = trn[~no_product]\n",
    "# print('after tranin set shape : ', trn.shape)"
   ]
  },
  {
   "cell_type": "code",
   "execution_count": 4,
   "metadata": {},
   "outputs": [],
   "source": [
    "for col in trn.columns[24:]:\n",
    "    tst[col] = 0\n",
    "\n",
    "df = pd.concat([trn, tst], axis=0)"
   ]
  },
  {
   "cell_type": "code",
   "execution_count": 5,
   "metadata": {},
   "outputs": [],
   "source": [
    "features = []\n",
    "\n",
    "# 범주형을 0, 1, 2와 같은 꼴로 변경시킴\n",
    "categorical_cols = ['ind_empleado', 'pais_residencia', 'sexo', 'tiprel_1mes', 'indresi', 'indext', 'conyuemp', 'canal_entrada', 'indfall', 'nomprov', 'segmento']\n",
    "for col in categorical_cols:\n",
    "    df[col], _ = df[col].factorize(na_sentinel=-99)\n",
    "features += categorical_cols"
   ]
  },
  {
   "cell_type": "code",
   "execution_count": 6,
   "metadata": {},
   "outputs": [],
   "source": [
    "df['age'].replace(' NA', -99, inplace=True)\n",
    "df['age'] = df['age'].astype(np.int8)"
   ]
  },
  {
   "cell_type": "code",
   "execution_count": 7,
   "metadata": {},
   "outputs": [],
   "source": [
    "df['antiguedad'].replace('     NA', -99, inplace=True)\n",
    "df['antiguedad'] = df['antiguedad'].astype(np.int8)"
   ]
  },
  {
   "cell_type": "code",
   "execution_count": 8,
   "metadata": {},
   "outputs": [],
   "source": [
    "df['renta'].replace('         NA', -99, inplace=True)\n",
    "df['renta'].fillna(-99, inplace=True)\n",
    "df['renta'] = df['renta'].astype(float).astype(np.int8)"
   ]
  },
  {
   "cell_type": "code",
   "execution_count": 9,
   "metadata": {},
   "outputs": [],
   "source": [
    "df['indrel_1mes'].replace('P', 5, inplace=True)\n",
    "df['indrel_1mes'].fillna(-99, inplace=True)\n",
    "df['indrel_1mes'] = df['indrel_1mes'].astype(float).astype(np.int8)"
   ]
  },
  {
   "cell_type": "code",
   "execution_count": 10,
   "metadata": {},
   "outputs": [],
   "source": [
    "features += ['age','antiguedad','renta','ind_nuevo','indrel','indrel_1mes','ind_actividad_cliente']"
   ]
  },
  {
   "cell_type": "markdown",
   "metadata": {},
   "source": [
    "# Feature Engineering"
   ]
  },
  {
   "cell_type": "code",
   "execution_count": 11,
   "metadata": {},
   "outputs": [],
   "source": [
    "df['fecha_alta_month'] = df['fecha_alta'].map(lambda x: 0.0 if x.__class__ is float else float(x.split('-')[1])).astype(np.int8)\n",
    "df['fecha_alta_year'] = df['fecha_alta'].map(lambda x: 0.0 if x.__class__ is float else float(x.split('-')[0])).astype(np.int16)\n",
    "features += ['fecha_alta_month', 'fecha_alta_year']"
   ]
  },
  {
   "cell_type": "code",
   "execution_count": 12,
   "metadata": {},
   "outputs": [],
   "source": [
    "df['ult_fec_cli_1t_month'] = df['ult_fec_cli_1t'].map(lambda x: 0.0 if x.__class__ is float else float(x.split('-')[1])).astype(np.int8)\n",
    "df['ult_fec_cli_1t_year'] = df['ult_fec_cli_1t'].map(lambda x: 0.0 if x.__class__ is float else float(x.split('-')[0])).astype(np.int16)\n",
    "features += ['ult_fec_cli_1t_month', 'ult_fec_cli_1t_year']"
   ]
  },
  {
   "cell_type": "code",
   "execution_count": 13,
   "metadata": {},
   "outputs": [],
   "source": [
    "# lag_features = features.copy()"
   ]
  },
  {
   "cell_type": "code",
   "execution_count": 14,
   "metadata": {},
   "outputs": [],
   "source": [
    "df.fillna(-99, inplace=True)"
   ]
  },
  {
   "cell_type": "code",
   "execution_count": 15,
   "metadata": {},
   "outputs": [],
   "source": [
    "def date_to_int(str_date):\n",
    "    Y, M, D = [int(a) for a in str_date.strip().split(\"-\")] \n",
    "    int_date = (int(Y) - 2015) * 12 + int(M)\n",
    "    \n",
    "    return int_date"
   ]
  },
  {
   "cell_type": "code",
   "execution_count": 16,
   "metadata": {},
   "outputs": [],
   "source": [
    "# df['int_date'] = trn['fecha_dato'].map(date_to_int).astype(np.int8)\n",
    "df['int_date'] = df['fecha_dato'].map(date_to_int).astype(np.int8)"
   ]
  },
  {
   "cell_type": "code",
   "execution_count": 17,
   "metadata": {},
   "outputs": [],
   "source": [
    "df_lag = df.copy()\n",
    "df_lag.columns = [col + '_prev' if col not in ['ncodpers', 'int_date'] else col for col in df.columns ]\n",
    "df_lag['int_date'] += 1"
   ]
  },
  {
   "cell_type": "code",
   "execution_count": 18,
   "metadata": {},
   "outputs": [
    {
     "name": "stdout",
     "output_type": "stream",
     "text": [
      "53\n",
      "53\n"
     ]
    }
   ],
   "source": [
    "print(len(df_lag.columns))\n",
    "print(len(df.columns))"
   ]
  },
  {
   "cell_type": "code",
   "execution_count": 19,
   "metadata": {},
   "outputs": [],
   "source": [
    "df_trn = df.merge(df_lag, on=['ncodpers','int_date'], how='left')\n",
    "del df, df_lag"
   ]
  },
  {
   "cell_type": "code",
   "execution_count": 20,
   "metadata": {},
   "outputs": [],
   "source": [
    "for prod in prods:\n",
    "    prev = prod + '_prev'\n",
    "    df_trn[prev].fillna(0, inplace=True)\n",
    "df_trn.fillna(-99, inplace=True)"
   ]
  },
  {
   "cell_type": "code",
   "execution_count": 21,
   "metadata": {},
   "outputs": [],
   "source": [
    "features += [feature + '_prev' for feature in features]\n",
    "features += [prod + '_prev' for prod in prods]"
   ]
  },
  {
   "cell_type": "markdown",
   "metadata": {},
   "source": [
    "# Seperate validation set"
   ]
  },
  {
   "cell_type": "code",
   "execution_count": 22,
   "metadata": {},
   "outputs": [],
   "source": [
    "use_dates = ['2016-01-28', '2016-02-28', '2016-03-28', '2016-04-28', '2016-05-28']\n",
    "trn = df_trn[df_trn['fecha_dato'].isin(use_dates)]\n",
    "tst = df_trn[df_trn['fecha_dato'] == '2016-06-28']\n",
    "del df_trn"
   ]
  },
  {
   "cell_type": "code",
   "execution_count": 23,
   "metadata": {},
   "outputs": [],
   "source": [
    "X = []\n",
    "Y = []\n",
    "for i, prod in enumerate(prods):\n",
    "    prev = prod + '_prev'\n",
    "    #Extract new purchase\n",
    "    prX = trn[(trn[prod] == 1) & (trn[prev] == 0)]\n",
    "    prY = np.zeros(prX.shape[0], dtype = np.int8) + i\n",
    "    X.append(prX)\n",
    "    Y.append(prY)\n",
    "XY = pd.concat(X)\n",
    "Y = np.hstack(Y)\n",
    "XY['y'] = Y"
   ]
  },
  {
   "cell_type": "code",
   "execution_count": 24,
   "metadata": {},
   "outputs": [],
   "source": [
    "vld_date = '2016-05-28'\n",
    "XY_trn = XY[XY['fecha_dato'] != vld_date]\n",
    "XY_vld = XY[XY['fecha_dato'] == vld_date]"
   ]
  },
  {
   "cell_type": "markdown",
   "metadata": {},
   "source": [
    "# Model training"
   ]
  },
  {
   "cell_type": "code",
   "execution_count": 25,
   "metadata": {},
   "outputs": [],
   "source": [
    "param = {\n",
    "    'booster' : 'gbtree',\n",
    "    'max_depth' : 8,\n",
    "    'nthread' : 8,\n",
    "    'num_class' : len(prods),\n",
    "    'objective' : 'multi:softprob',\n",
    "    'silent' : 1,\n",
    "    'eval_metric' : 'mlogloss',\n",
    "    'eta' : 0.1,\n",
    "    'min_child_weight' : 10,\n",
    "    'colsample_bytree' : 0.8,\n",
    "    'colsample_bylevel' : 0.9,\n",
    "    'seed': 2019,\n",
    "}"
   ]
  },
  {
   "cell_type": "code",
   "execution_count": 31,
   "metadata": {
    "scrolled": true
   },
   "outputs": [
    {
     "name": "stderr",
     "output_type": "stream",
     "text": [
      "E:\\ProgramData\\Anaconda3\\envs\\dsc\\lib\\site-packages\\ipykernel_launcher.py:1: FutureWarning: Method .as_matrix will be removed in a future version. Use .values instead.\n",
      "  \"\"\"Entry point for launching an IPython kernel.\n",
      "E:\\ProgramData\\Anaconda3\\envs\\dsc\\lib\\site-packages\\ipykernel_launcher.py:2: FutureWarning: Method .as_matrix will be removed in a future version. Use .values instead.\n",
      "  \n"
     ]
    }
   ],
   "source": [
    "X_trn = XY_trn.as_matrix(columns=features)\n",
    "Y_trn = XY_trn.as_matrix(columns=['y'])\n",
    "dtrn = xgb.DMatrix(X_trn, label=Y_trn, feature_names=features)"
   ]
  },
  {
   "cell_type": "code",
   "execution_count": 32,
   "metadata": {},
   "outputs": [
    {
     "name": "stderr",
     "output_type": "stream",
     "text": [
      "E:\\ProgramData\\Anaconda3\\envs\\dsc\\lib\\site-packages\\ipykernel_launcher.py:1: FutureWarning: Method .as_matrix will be removed in a future version. Use .values instead.\n",
      "  \"\"\"Entry point for launching an IPython kernel.\n",
      "E:\\ProgramData\\Anaconda3\\envs\\dsc\\lib\\site-packages\\ipykernel_launcher.py:2: FutureWarning: Method .as_matrix will be removed in a future version. Use .values instead.\n",
      "  \n"
     ]
    }
   ],
   "source": [
    "X_vld = XY_vld.as_matrix(columns=features)\n",
    "Y_vld = XY_vld.as_matrix(columns=['y'])\n",
    "dvld = xgb.DMatrix(X_vld, label=Y_vld, feature_names=features)"
   ]
  },
  {
   "cell_type": "code",
   "execution_count": 33,
   "metadata": {
    "scrolled": false
   },
   "outputs": [
    {
     "name": "stdout",
     "output_type": "stream",
     "text": [
      "[0]\ttrain-mlogloss:2.74806\teval-mlogloss:2.75872\n",
      "Multiple eval metrics have been passed: 'eval-mlogloss' will be used for early stopping.\n",
      "\n",
      "Will train until eval-mlogloss hasn't improved in 20 rounds.\n",
      "[1]\ttrain-mlogloss:2.51359\teval-mlogloss:2.53049\n",
      "[2]\ttrain-mlogloss:2.32365\teval-mlogloss:2.34081\n",
      "[3]\ttrain-mlogloss:2.17123\teval-mlogloss:2.18886\n",
      "[4]\ttrain-mlogloss:2.05218\teval-mlogloss:2.07027\n",
      "[5]\ttrain-mlogloss:1.95326\teval-mlogloss:1.97175\n",
      "[6]\ttrain-mlogloss:1.86734\teval-mlogloss:1.88611\n",
      "[7]\ttrain-mlogloss:1.79414\teval-mlogloss:1.81337\n",
      "[8]\ttrain-mlogloss:1.7303\teval-mlogloss:1.74977\n",
      "[9]\ttrain-mlogloss:1.67556\teval-mlogloss:1.69546\n",
      "[10]\ttrain-mlogloss:1.63035\teval-mlogloss:1.65057\n",
      "[11]\ttrain-mlogloss:1.58563\teval-mlogloss:1.606\n",
      "[12]\ttrain-mlogloss:1.54697\teval-mlogloss:1.56784\n",
      "[13]\ttrain-mlogloss:1.51232\teval-mlogloss:1.53336\n",
      "[14]\ttrain-mlogloss:1.47952\teval-mlogloss:1.50094\n",
      "[15]\ttrain-mlogloss:1.44954\teval-mlogloss:1.47134\n",
      "[16]\ttrain-mlogloss:1.42299\teval-mlogloss:1.44501\n",
      "[17]\ttrain-mlogloss:1.39773\teval-mlogloss:1.41987\n",
      "[18]\ttrain-mlogloss:1.37581\teval-mlogloss:1.39834\n",
      "[19]\ttrain-mlogloss:1.35449\teval-mlogloss:1.37716\n",
      "[20]\ttrain-mlogloss:1.33559\teval-mlogloss:1.35872\n",
      "[21]\ttrain-mlogloss:1.31889\teval-mlogloss:1.34244\n",
      "[22]\ttrain-mlogloss:1.30228\teval-mlogloss:1.32621\n",
      "[23]\ttrain-mlogloss:1.28765\teval-mlogloss:1.31198\n",
      "[24]\ttrain-mlogloss:1.27373\teval-mlogloss:1.2985\n",
      "[25]\ttrain-mlogloss:1.26155\teval-mlogloss:1.28651\n",
      "[26]\ttrain-mlogloss:1.24914\teval-mlogloss:1.27444\n",
      "[27]\ttrain-mlogloss:1.23795\teval-mlogloss:1.26348\n",
      "[28]\ttrain-mlogloss:1.2276\teval-mlogloss:1.25346\n",
      "[29]\ttrain-mlogloss:1.21764\teval-mlogloss:1.24379\n",
      "[30]\ttrain-mlogloss:1.20846\teval-mlogloss:1.23498\n",
      "[31]\ttrain-mlogloss:1.19988\teval-mlogloss:1.22677\n",
      "[32]\ttrain-mlogloss:1.19216\teval-mlogloss:1.21959\n",
      "[33]\ttrain-mlogloss:1.18432\teval-mlogloss:1.21213\n",
      "[34]\ttrain-mlogloss:1.17752\teval-mlogloss:1.20564\n",
      "[35]\ttrain-mlogloss:1.1707\teval-mlogloss:1.19925\n",
      "[36]\ttrain-mlogloss:1.16455\teval-mlogloss:1.19369\n",
      "[37]\ttrain-mlogloss:1.15877\teval-mlogloss:1.18828\n",
      "[38]\ttrain-mlogloss:1.15297\teval-mlogloss:1.18294\n",
      "[39]\ttrain-mlogloss:1.14768\teval-mlogloss:1.17802\n",
      "[40]\ttrain-mlogloss:1.14261\teval-mlogloss:1.17344\n",
      "[41]\ttrain-mlogloss:1.13794\teval-mlogloss:1.16925\n",
      "[42]\ttrain-mlogloss:1.13336\teval-mlogloss:1.16516\n",
      "[43]\ttrain-mlogloss:1.1291\teval-mlogloss:1.16131\n",
      "[44]\ttrain-mlogloss:1.12512\teval-mlogloss:1.15784\n",
      "[45]\ttrain-mlogloss:1.12119\teval-mlogloss:1.15432\n",
      "[46]\ttrain-mlogloss:1.11762\teval-mlogloss:1.15121\n",
      "[47]\ttrain-mlogloss:1.11407\teval-mlogloss:1.14804\n",
      "[48]\ttrain-mlogloss:1.11095\teval-mlogloss:1.14532\n",
      "[49]\ttrain-mlogloss:1.10773\teval-mlogloss:1.14265\n",
      "[50]\ttrain-mlogloss:1.10456\teval-mlogloss:1.14\n",
      "[51]\ttrain-mlogloss:1.10171\teval-mlogloss:1.13757\n",
      "[52]\ttrain-mlogloss:1.09888\teval-mlogloss:1.13515\n",
      "[53]\ttrain-mlogloss:1.09627\teval-mlogloss:1.13281\n",
      "[54]\ttrain-mlogloss:1.09383\teval-mlogloss:1.13072\n",
      "[55]\ttrain-mlogloss:1.09138\teval-mlogloss:1.12871\n",
      "[56]\ttrain-mlogloss:1.089\teval-mlogloss:1.12679\n",
      "[57]\ttrain-mlogloss:1.08683\teval-mlogloss:1.12507\n",
      "[58]\ttrain-mlogloss:1.08467\teval-mlogloss:1.12332\n",
      "[59]\ttrain-mlogloss:1.08263\teval-mlogloss:1.12171\n",
      "[60]\ttrain-mlogloss:1.08067\teval-mlogloss:1.12013\n",
      "[61]\ttrain-mlogloss:1.07876\teval-mlogloss:1.11872\n",
      "[62]\ttrain-mlogloss:1.07714\teval-mlogloss:1.11745\n",
      "[63]\ttrain-mlogloss:1.07543\teval-mlogloss:1.11615\n",
      "[64]\ttrain-mlogloss:1.07389\teval-mlogloss:1.11502\n",
      "[65]\ttrain-mlogloss:1.07239\teval-mlogloss:1.1139\n",
      "[66]\ttrain-mlogloss:1.07081\teval-mlogloss:1.11281\n",
      "[67]\ttrain-mlogloss:1.06926\teval-mlogloss:1.11172\n",
      "[68]\ttrain-mlogloss:1.06778\teval-mlogloss:1.11059\n",
      "[69]\ttrain-mlogloss:1.06643\teval-mlogloss:1.10962\n",
      "[70]\ttrain-mlogloss:1.06508\teval-mlogloss:1.10871\n",
      "[71]\ttrain-mlogloss:1.06386\teval-mlogloss:1.10795\n",
      "[72]\ttrain-mlogloss:1.06256\teval-mlogloss:1.10712\n",
      "[73]\ttrain-mlogloss:1.0613\teval-mlogloss:1.10635\n",
      "[74]\ttrain-mlogloss:1.06016\teval-mlogloss:1.1056\n",
      "[75]\ttrain-mlogloss:1.05906\teval-mlogloss:1.1049\n",
      "[76]\ttrain-mlogloss:1.05797\teval-mlogloss:1.10425\n",
      "[77]\ttrain-mlogloss:1.05692\teval-mlogloss:1.10361\n",
      "[78]\ttrain-mlogloss:1.0558\teval-mlogloss:1.10292\n",
      "[79]\ttrain-mlogloss:1.05478\teval-mlogloss:1.10237\n",
      "[80]\ttrain-mlogloss:1.05375\teval-mlogloss:1.10178\n",
      "[81]\ttrain-mlogloss:1.05273\teval-mlogloss:1.10125\n",
      "[82]\ttrain-mlogloss:1.05173\teval-mlogloss:1.10067\n",
      "[83]\ttrain-mlogloss:1.05082\teval-mlogloss:1.10018\n",
      "[84]\ttrain-mlogloss:1.04993\teval-mlogloss:1.09972\n",
      "[85]\ttrain-mlogloss:1.04907\teval-mlogloss:1.09931\n",
      "[86]\ttrain-mlogloss:1.04824\teval-mlogloss:1.09896\n",
      "[87]\ttrain-mlogloss:1.04734\teval-mlogloss:1.09853\n",
      "[88]\ttrain-mlogloss:1.04649\teval-mlogloss:1.09811\n",
      "[89]\ttrain-mlogloss:1.04565\teval-mlogloss:1.09774\n",
      "[90]\ttrain-mlogloss:1.04495\teval-mlogloss:1.09739\n",
      "[91]\ttrain-mlogloss:1.04418\teval-mlogloss:1.09705\n",
      "[92]\ttrain-mlogloss:1.04349\teval-mlogloss:1.09677\n",
      "[93]\ttrain-mlogloss:1.04279\teval-mlogloss:1.09649\n",
      "[94]\ttrain-mlogloss:1.04204\teval-mlogloss:1.09617\n",
      "[95]\ttrain-mlogloss:1.04109\teval-mlogloss:1.09595\n",
      "[96]\ttrain-mlogloss:1.04036\teval-mlogloss:1.09559\n",
      "[97]\ttrain-mlogloss:1.03971\teval-mlogloss:1.09532\n",
      "[98]\ttrain-mlogloss:1.03895\teval-mlogloss:1.095\n",
      "[99]\ttrain-mlogloss:1.03835\teval-mlogloss:1.0948\n",
      "[100]\ttrain-mlogloss:1.0375\teval-mlogloss:1.09457\n",
      "[101]\ttrain-mlogloss:1.03683\teval-mlogloss:1.09429\n",
      "[102]\ttrain-mlogloss:1.03618\teval-mlogloss:1.09408\n",
      "[103]\ttrain-mlogloss:1.0356\teval-mlogloss:1.09386\n",
      "[104]\ttrain-mlogloss:1.03484\teval-mlogloss:1.09362\n",
      "[105]\ttrain-mlogloss:1.03423\teval-mlogloss:1.09341\n",
      "[106]\ttrain-mlogloss:1.03349\teval-mlogloss:1.09327\n",
      "[107]\ttrain-mlogloss:1.0329\teval-mlogloss:1.09309\n",
      "[108]\ttrain-mlogloss:1.0323\teval-mlogloss:1.09287\n",
      "[109]\ttrain-mlogloss:1.03175\teval-mlogloss:1.09269\n",
      "[110]\ttrain-mlogloss:1.03108\teval-mlogloss:1.09249\n",
      "[111]\ttrain-mlogloss:1.03043\teval-mlogloss:1.09225\n",
      "[112]\ttrain-mlogloss:1.02977\teval-mlogloss:1.09205\n",
      "[113]\ttrain-mlogloss:1.02927\teval-mlogloss:1.09195\n",
      "[114]\ttrain-mlogloss:1.02873\teval-mlogloss:1.0918\n",
      "[115]\ttrain-mlogloss:1.0281\teval-mlogloss:1.09167\n",
      "[116]\ttrain-mlogloss:1.02748\teval-mlogloss:1.09154\n",
      "[117]\ttrain-mlogloss:1.02691\teval-mlogloss:1.09141\n",
      "[118]\ttrain-mlogloss:1.02622\teval-mlogloss:1.09126\n",
      "[119]\ttrain-mlogloss:1.02552\teval-mlogloss:1.09112\n",
      "[120]\ttrain-mlogloss:1.02497\teval-mlogloss:1.09103\n",
      "[121]\ttrain-mlogloss:1.02443\teval-mlogloss:1.09095\n",
      "[122]\ttrain-mlogloss:1.02385\teval-mlogloss:1.09087\n",
      "[123]\ttrain-mlogloss:1.02327\teval-mlogloss:1.09077\n",
      "[124]\ttrain-mlogloss:1.02263\teval-mlogloss:1.09069\n",
      "[125]\ttrain-mlogloss:1.02202\teval-mlogloss:1.09063\n",
      "[126]\ttrain-mlogloss:1.02144\teval-mlogloss:1.09054\n",
      "[127]\ttrain-mlogloss:1.02094\teval-mlogloss:1.09048\n",
      "[128]\ttrain-mlogloss:1.02036\teval-mlogloss:1.09039\n",
      "[129]\ttrain-mlogloss:1.01975\teval-mlogloss:1.09032\n",
      "[130]\ttrain-mlogloss:1.01911\teval-mlogloss:1.0902\n",
      "[131]\ttrain-mlogloss:1.01839\teval-mlogloss:1.09005\n",
      "[132]\ttrain-mlogloss:1.01787\teval-mlogloss:1.09001\n",
      "[133]\ttrain-mlogloss:1.01732\teval-mlogloss:1.08991\n",
      "[134]\ttrain-mlogloss:1.01675\teval-mlogloss:1.0898\n",
      "[135]\ttrain-mlogloss:1.0163\teval-mlogloss:1.08974\n",
      "[136]\ttrain-mlogloss:1.01556\teval-mlogloss:1.0897\n",
      "[137]\ttrain-mlogloss:1.01499\teval-mlogloss:1.08967\n",
      "[138]\ttrain-mlogloss:1.01437\teval-mlogloss:1.08957\n",
      "[139]\ttrain-mlogloss:1.01365\teval-mlogloss:1.08948\n",
      "[140]\ttrain-mlogloss:1.01296\teval-mlogloss:1.08945\n",
      "[141]\ttrain-mlogloss:1.01249\teval-mlogloss:1.08942\n",
      "[142]\ttrain-mlogloss:1.01196\teval-mlogloss:1.08935\n",
      "[143]\ttrain-mlogloss:1.01129\teval-mlogloss:1.08928\n",
      "[144]\ttrain-mlogloss:1.01086\teval-mlogloss:1.08927\n",
      "[145]\ttrain-mlogloss:1.01027\teval-mlogloss:1.0892\n",
      "[146]\ttrain-mlogloss:1.00965\teval-mlogloss:1.08912\n",
      "[147]\ttrain-mlogloss:1.00923\teval-mlogloss:1.08912\n",
      "[148]\ttrain-mlogloss:1.00858\teval-mlogloss:1.08911\n",
      "[149]\ttrain-mlogloss:1.00795\teval-mlogloss:1.08912\n",
      "[150]\ttrain-mlogloss:1.00745\teval-mlogloss:1.08903\n",
      "[151]\ttrain-mlogloss:1.00699\teval-mlogloss:1.08901\n",
      "[152]\ttrain-mlogloss:1.00646\teval-mlogloss:1.08899\n",
      "[153]\ttrain-mlogloss:1.00588\teval-mlogloss:1.08896\n",
      "[154]\ttrain-mlogloss:1.00539\teval-mlogloss:1.08895\n",
      "[155]\ttrain-mlogloss:1.00482\teval-mlogloss:1.08888\n",
      "[156]\ttrain-mlogloss:1.00431\teval-mlogloss:1.08879\n",
      "[157]\ttrain-mlogloss:1.00361\teval-mlogloss:1.08875\n",
      "[158]\ttrain-mlogloss:1.00297\teval-mlogloss:1.08874\n",
      "[159]\ttrain-mlogloss:1.00236\teval-mlogloss:1.08868\n",
      "[160]\ttrain-mlogloss:1.00183\teval-mlogloss:1.08867\n"
     ]
    },
    {
     "name": "stdout",
     "output_type": "stream",
     "text": [
      "[161]\ttrain-mlogloss:1.00119\teval-mlogloss:1.08868\n",
      "[162]\ttrain-mlogloss:1.00058\teval-mlogloss:1.08862\n",
      "[163]\ttrain-mlogloss:0.999928\teval-mlogloss:1.08861\n",
      "[164]\ttrain-mlogloss:0.99934\teval-mlogloss:1.08858\n",
      "[165]\ttrain-mlogloss:0.998781\teval-mlogloss:1.08854\n",
      "[166]\ttrain-mlogloss:0.998275\teval-mlogloss:1.08853\n",
      "[167]\ttrain-mlogloss:0.997695\teval-mlogloss:1.08849\n",
      "[168]\ttrain-mlogloss:0.997152\teval-mlogloss:1.08849\n",
      "[169]\ttrain-mlogloss:0.996505\teval-mlogloss:1.08848\n",
      "[170]\ttrain-mlogloss:0.995766\teval-mlogloss:1.08838\n",
      "[171]\ttrain-mlogloss:0.995281\teval-mlogloss:1.08837\n",
      "[172]\ttrain-mlogloss:0.994813\teval-mlogloss:1.0883\n",
      "[173]\ttrain-mlogloss:0.994196\teval-mlogloss:1.08825\n",
      "[174]\ttrain-mlogloss:0.993532\teval-mlogloss:1.08822\n",
      "[175]\ttrain-mlogloss:0.992956\teval-mlogloss:1.08821\n",
      "[176]\ttrain-mlogloss:0.992307\teval-mlogloss:1.0882\n",
      "[177]\ttrain-mlogloss:0.991782\teval-mlogloss:1.08819\n",
      "[178]\ttrain-mlogloss:0.99119\teval-mlogloss:1.08815\n",
      "[179]\ttrain-mlogloss:0.990553\teval-mlogloss:1.08814\n",
      "[180]\ttrain-mlogloss:0.990025\teval-mlogloss:1.08815\n",
      "[181]\ttrain-mlogloss:0.98943\teval-mlogloss:1.08814\n",
      "[182]\ttrain-mlogloss:0.988873\teval-mlogloss:1.08815\n",
      "[183]\ttrain-mlogloss:0.988407\teval-mlogloss:1.08814\n",
      "[184]\ttrain-mlogloss:0.987871\teval-mlogloss:1.08814\n",
      "[185]\ttrain-mlogloss:0.987415\teval-mlogloss:1.08813\n",
      "[186]\ttrain-mlogloss:0.986973\teval-mlogloss:1.08811\n",
      "[187]\ttrain-mlogloss:0.986438\teval-mlogloss:1.08817\n",
      "[188]\ttrain-mlogloss:0.985837\teval-mlogloss:1.08818\n",
      "[189]\ttrain-mlogloss:0.985272\teval-mlogloss:1.08817\n",
      "[190]\ttrain-mlogloss:0.984626\teval-mlogloss:1.0882\n",
      "[191]\ttrain-mlogloss:0.984144\teval-mlogloss:1.08818\n",
      "[192]\ttrain-mlogloss:0.983523\teval-mlogloss:1.08818\n",
      "[193]\ttrain-mlogloss:0.982965\teval-mlogloss:1.0882\n",
      "[194]\ttrain-mlogloss:0.982351\teval-mlogloss:1.08824\n",
      "[195]\ttrain-mlogloss:0.981865\teval-mlogloss:1.08822\n",
      "[196]\ttrain-mlogloss:0.981316\teval-mlogloss:1.08819\n",
      "[197]\ttrain-mlogloss:0.980817\teval-mlogloss:1.08817\n",
      "[198]\ttrain-mlogloss:0.980285\teval-mlogloss:1.08813\n",
      "[199]\ttrain-mlogloss:0.979688\teval-mlogloss:1.08819\n",
      "[200]\ttrain-mlogloss:0.979103\teval-mlogloss:1.08816\n",
      "[201]\ttrain-mlogloss:0.978635\teval-mlogloss:1.08817\n",
      "[202]\ttrain-mlogloss:0.978226\teval-mlogloss:1.08825\n",
      "[203]\ttrain-mlogloss:0.977695\teval-mlogloss:1.08823\n",
      "[204]\ttrain-mlogloss:0.977239\teval-mlogloss:1.08823\n",
      "[205]\ttrain-mlogloss:0.976499\teval-mlogloss:1.08817\n",
      "[206]\ttrain-mlogloss:0.975792\teval-mlogloss:1.08817\n",
      "Stopping. Best iteration:\n",
      "[186]\ttrain-mlogloss:0.986973\teval-mlogloss:1.08811\n",
      "\n"
     ]
    }
   ],
   "source": [
    "watch_list = [(dtrn, 'train'), (dvld, 'eval')]\n",
    "model = xgb.train(param, dtrn, num_boost_round=1000, evals=watch_list, early_stopping_rounds=20)"
   ]
  },
  {
   "cell_type": "markdown",
   "metadata": {},
   "source": [
    "# Save trained model"
   ]
  },
  {
   "cell_type": "code",
   "execution_count": 34,
   "metadata": {},
   "outputs": [
    {
     "data": {
      "text/plain": [
       "187"
      ]
     },
     "execution_count": 34,
     "metadata": {},
     "output_type": "execute_result"
    }
   ],
   "source": [
    "import pickle\n",
    "\n",
    "pickle.dump(model, open(\"model/xgb.baseline.pkl\", \"wb\"))\n",
    "best_ntree_limit = model.best_ntree_limit\n",
    "best_ntree_limit"
   ]
  },
  {
   "cell_type": "markdown",
   "metadata": {},
   "source": [
    "# Validation"
   ]
  },
  {
   "cell_type": "code",
   "execution_count": 35,
   "metadata": {},
   "outputs": [],
   "source": [
    "from mapk import *"
   ]
  },
  {
   "cell_type": "code",
   "execution_count": 36,
   "metadata": {},
   "outputs": [
    {
     "name": "stderr",
     "output_type": "stream",
     "text": [
      "E:\\ProgramData\\Anaconda3\\envs\\dsc\\lib\\site-packages\\ipykernel_launcher.py:2: FutureWarning: Method .as_matrix will be removed in a future version. Use .values instead.\n",
      "  \n",
      "E:\\ProgramData\\Anaconda3\\envs\\dsc\\lib\\site-packages\\ipykernel_launcher.py:6: SettingWithCopyWarning: \n",
      "A value is trying to be set on a copy of a slice from a DataFrame.\n",
      "Try using .loc[row_indexer,col_indexer] = value instead\n",
      "\n",
      "See the caveats in the documentation: http://pandas.pydata.org/pandas-docs/stable/indexing.html#indexing-view-versus-copy\n",
      "  \n",
      "E:\\ProgramData\\Anaconda3\\envs\\dsc\\lib\\site-packages\\ipykernel_launcher.py:8: FutureWarning: Method .as_matrix will be removed in a future version. Use .values instead.\n",
      "  \n"
     ]
    }
   ],
   "source": [
    "vld = trn[trn['fecha_dato'] == vld_date]\n",
    "ncodpers_vld = vld.as_matrix(columns=['ncodpers'])\n",
    "for prod in prods:\n",
    "    prev = prod + '_prev'\n",
    "    padd = prod + '_add'\n",
    "    vld[padd] = vld[prod] - vld[prev]\n",
    "    \n",
    "add_vld = vld.as_matrix(columns=[prod + '_add' for prod in prods])\n",
    "add_vld_list = [list() for i in range(len(ncodpers_vld))]"
   ]
  },
  {
   "cell_type": "code",
   "execution_count": 37,
   "metadata": {},
   "outputs": [],
   "source": [
    "count_vld = 0\n",
    "for ncodper in range(len(ncodpers_vld)):\n",
    "    for prod in range(len(prods)):\n",
    "        if add_vld[ncodper, prod] > 0:\n",
    "            add_vld_list[ncodper].append(prod)\n",
    "            count_vld += 1"
   ]
  },
  {
   "cell_type": "code",
   "execution_count": 38,
   "metadata": {},
   "outputs": [
    {
     "name": "stdout",
     "output_type": "stream",
     "text": [
      "0.04266379915553903\n"
     ]
    }
   ],
   "source": [
    "print(mapk(add_vld_list, add_vld_list, 7, 0.0))"
   ]
  },
  {
   "cell_type": "code",
   "execution_count": 39,
   "metadata": {},
   "outputs": [
    {
     "name": "stderr",
     "output_type": "stream",
     "text": [
      "E:\\ProgramData\\Anaconda3\\envs\\dsc\\lib\\site-packages\\ipykernel_launcher.py:1: FutureWarning: Method .as_matrix will be removed in a future version. Use .values instead.\n",
      "  \"\"\"Entry point for launching an IPython kernel.\n",
      "E:\\ProgramData\\Anaconda3\\envs\\dsc\\lib\\site-packages\\ipykernel_launcher.py:2: FutureWarning: Method .as_matrix will be removed in a future version. Use .values instead.\n",
      "  \n"
     ]
    }
   ],
   "source": [
    "X_vld = vld.as_matrix(columns=features)\n",
    "Y_vld = vld.as_matrix(columns=['y'])\n",
    "dvld = xgb.DMatrix(X_vld, label=Y_vld, feature_names=features)\n",
    "preds_vld = model.predict(dvld, ntree_limit=best_ntree_limit)"
   ]
  },
  {
   "cell_type": "code",
   "execution_count": 40,
   "metadata": {
    "scrolled": true
   },
   "outputs": [
    {
     "name": "stderr",
     "output_type": "stream",
     "text": [
      "E:\\ProgramData\\Anaconda3\\envs\\dsc\\lib\\site-packages\\ipykernel_launcher.py:1: FutureWarning: Method .as_matrix will be removed in a future version. Use .values instead.\n",
      "  \"\"\"Entry point for launching an IPython kernel.\n"
     ]
    }
   ],
   "source": [
    "preds_vld = preds_vld - vld.as_matrix(columns=[prod + '_prev' for prod in prods])"
   ]
  },
  {
   "cell_type": "code",
   "execution_count": 41,
   "metadata": {},
   "outputs": [],
   "source": [
    "result_vld = []\n",
    "for ncodper, pred in zip(ncodpers_vld, preds_vld):\n",
    "    y_prods = [(y, p, ip) for y,p,ip in zip(pred, prods, range(len(prods)))]\n",
    "    y_prods = sorted(y_prods, key=lambda a: a[0], reverse=True)[:7]\n",
    "    result_vld.append([ip for y,p,ip in y_prods])"
   ]
  },
  {
   "cell_type": "code",
   "execution_count": 42,
   "metadata": {},
   "outputs": [
    {
     "name": "stdout",
     "output_type": "stream",
     "text": [
      "0.03646330962404435\n"
     ]
    }
   ],
   "source": [
    "print(mapk(add_vld_list, result_vld, 7, 0.0))"
   ]
  },
  {
   "cell_type": "markdown",
   "metadata": {},
   "source": [
    "# Training Total Dataset"
   ]
  },
  {
   "cell_type": "code",
   "execution_count": 43,
   "metadata": {},
   "outputs": [
    {
     "name": "stderr",
     "output_type": "stream",
     "text": [
      "E:\\ProgramData\\Anaconda3\\envs\\dsc\\lib\\site-packages\\ipykernel_launcher.py:1: FutureWarning: Method .as_matrix will be removed in a future version. Use .values instead.\n",
      "  \"\"\"Entry point for launching an IPython kernel.\n",
      "E:\\ProgramData\\Anaconda3\\envs\\dsc\\lib\\site-packages\\ipykernel_launcher.py:2: FutureWarning: Method .as_matrix will be removed in a future version. Use .values instead.\n",
      "  \n"
     ]
    }
   ],
   "source": [
    "X_all = XY.as_matrix(columns=features)\n",
    "Y_all = XY.as_matrix(columns=['y'])\n",
    "dall = xgb.DMatrix(X_all, label=Y_all, feature_names=features)\n",
    "watch_list = [(dall, 'train')]"
   ]
  },
  {
   "cell_type": "code",
   "execution_count": 44,
   "metadata": {
    "scrolled": true
   },
   "outputs": [
    {
     "name": "stdout",
     "output_type": "stream",
     "text": [
      "230\n",
      "187\n",
      "[0]\ttrain-mlogloss:2.74837\n",
      "[1]\ttrain-mlogloss:2.51447\n",
      "[2]\ttrain-mlogloss:2.32416\n",
      "[3]\ttrain-mlogloss:2.17134\n",
      "[4]\ttrain-mlogloss:2.05219\n",
      "[5]\ttrain-mlogloss:1.9533\n",
      "[6]\ttrain-mlogloss:1.86703\n",
      "[7]\ttrain-mlogloss:1.79361\n",
      "[8]\ttrain-mlogloss:1.7297\n",
      "[9]\ttrain-mlogloss:1.67508\n",
      "[10]\ttrain-mlogloss:1.62985\n",
      "[11]\ttrain-mlogloss:1.58494\n",
      "[12]\ttrain-mlogloss:1.54625\n",
      "[13]\ttrain-mlogloss:1.51151\n",
      "[14]\ttrain-mlogloss:1.47869\n",
      "[15]\ttrain-mlogloss:1.44879\n",
      "[16]\ttrain-mlogloss:1.4223\n",
      "[17]\ttrain-mlogloss:1.39707\n",
      "[18]\ttrain-mlogloss:1.37504\n",
      "[19]\ttrain-mlogloss:1.3538\n",
      "[20]\ttrain-mlogloss:1.33495\n",
      "[21]\ttrain-mlogloss:1.31817\n",
      "[22]\ttrain-mlogloss:1.30164\n",
      "[23]\ttrain-mlogloss:1.28707\n",
      "[24]\ttrain-mlogloss:1.2732\n",
      "[25]\ttrain-mlogloss:1.26107\n",
      "[26]\ttrain-mlogloss:1.24873\n",
      "[27]\ttrain-mlogloss:1.23765\n",
      "[28]\ttrain-mlogloss:1.22734\n",
      "[29]\ttrain-mlogloss:1.21746\n",
      "[30]\ttrain-mlogloss:1.20842\n",
      "[31]\ttrain-mlogloss:1.1999\n",
      "[32]\ttrain-mlogloss:1.19219\n",
      "[33]\ttrain-mlogloss:1.18437\n",
      "[34]\ttrain-mlogloss:1.1776\n",
      "[35]\ttrain-mlogloss:1.17083\n",
      "[36]\ttrain-mlogloss:1.16483\n",
      "[37]\ttrain-mlogloss:1.15905\n",
      "[38]\ttrain-mlogloss:1.15329\n",
      "[39]\ttrain-mlogloss:1.14793\n",
      "[40]\ttrain-mlogloss:1.14291\n",
      "[41]\ttrain-mlogloss:1.13824\n",
      "[42]\ttrain-mlogloss:1.13381\n",
      "[43]\ttrain-mlogloss:1.12963\n",
      "[44]\ttrain-mlogloss:1.12564\n",
      "[45]\ttrain-mlogloss:1.12175\n",
      "[46]\ttrain-mlogloss:1.1182\n",
      "[47]\ttrain-mlogloss:1.11456\n",
      "[48]\ttrain-mlogloss:1.1114\n",
      "[49]\ttrain-mlogloss:1.10835\n",
      "[50]\ttrain-mlogloss:1.10527\n",
      "[51]\ttrain-mlogloss:1.10251\n",
      "[52]\ttrain-mlogloss:1.09975\n",
      "[53]\ttrain-mlogloss:1.09715\n",
      "[54]\ttrain-mlogloss:1.09468\n",
      "[55]\ttrain-mlogloss:1.09225\n",
      "[56]\ttrain-mlogloss:1.08988\n",
      "[57]\ttrain-mlogloss:1.08779\n",
      "[58]\ttrain-mlogloss:1.08579\n",
      "[59]\ttrain-mlogloss:1.08383\n",
      "[60]\ttrain-mlogloss:1.08191\n",
      "[61]\ttrain-mlogloss:1.08007\n",
      "[62]\ttrain-mlogloss:1.07852\n",
      "[63]\ttrain-mlogloss:1.07682\n",
      "[64]\ttrain-mlogloss:1.0754\n",
      "[65]\ttrain-mlogloss:1.07387\n",
      "[66]\ttrain-mlogloss:1.07236\n",
      "[67]\ttrain-mlogloss:1.07089\n",
      "[68]\ttrain-mlogloss:1.06952\n",
      "[69]\ttrain-mlogloss:1.06817\n",
      "[70]\ttrain-mlogloss:1.06683\n",
      "[71]\ttrain-mlogloss:1.06564\n",
      "[72]\ttrain-mlogloss:1.06444\n",
      "[73]\ttrain-mlogloss:1.06333\n",
      "[74]\ttrain-mlogloss:1.06228\n",
      "[75]\ttrain-mlogloss:1.06117\n",
      "[76]\ttrain-mlogloss:1.06017\n",
      "[77]\ttrain-mlogloss:1.0592\n",
      "[78]\ttrain-mlogloss:1.05825\n",
      "[79]\ttrain-mlogloss:1.05718\n",
      "[80]\ttrain-mlogloss:1.05629\n",
      "[81]\ttrain-mlogloss:1.05535\n",
      "[82]\ttrain-mlogloss:1.05454\n",
      "[83]\ttrain-mlogloss:1.05355\n",
      "[84]\ttrain-mlogloss:1.05265\n",
      "[85]\ttrain-mlogloss:1.05173\n",
      "[86]\ttrain-mlogloss:1.05089\n",
      "[87]\ttrain-mlogloss:1.05007\n",
      "[88]\ttrain-mlogloss:1.04927\n",
      "[89]\ttrain-mlogloss:1.04843\n",
      "[90]\ttrain-mlogloss:1.0477\n",
      "[91]\ttrain-mlogloss:1.04687\n",
      "[92]\ttrain-mlogloss:1.04624\n",
      "[93]\ttrain-mlogloss:1.0455\n",
      "[94]\ttrain-mlogloss:1.04493\n",
      "[95]\ttrain-mlogloss:1.04406\n",
      "[96]\ttrain-mlogloss:1.0434\n",
      "[97]\ttrain-mlogloss:1.04282\n",
      "[98]\ttrain-mlogloss:1.04211\n",
      "[99]\ttrain-mlogloss:1.04167\n",
      "[100]\ttrain-mlogloss:1.04105\n",
      "[101]\ttrain-mlogloss:1.0404\n",
      "[102]\ttrain-mlogloss:1.03976\n",
      "[103]\ttrain-mlogloss:1.03922\n",
      "[104]\ttrain-mlogloss:1.03857\n",
      "[105]\ttrain-mlogloss:1.03805\n",
      "[106]\ttrain-mlogloss:1.03743\n",
      "[107]\ttrain-mlogloss:1.03686\n",
      "[108]\ttrain-mlogloss:1.03629\n",
      "[109]\ttrain-mlogloss:1.03574\n",
      "[110]\ttrain-mlogloss:1.03509\n",
      "[111]\ttrain-mlogloss:1.03452\n",
      "[112]\ttrain-mlogloss:1.03392\n",
      "[113]\ttrain-mlogloss:1.03337\n",
      "[114]\ttrain-mlogloss:1.0328\n",
      "[115]\ttrain-mlogloss:1.03229\n",
      "[116]\ttrain-mlogloss:1.03168\n",
      "[117]\ttrain-mlogloss:1.0312\n",
      "[118]\ttrain-mlogloss:1.03056\n",
      "[119]\ttrain-mlogloss:1.03008\n",
      "[120]\ttrain-mlogloss:1.02947\n",
      "[121]\ttrain-mlogloss:1.02893\n",
      "[122]\ttrain-mlogloss:1.0284\n",
      "[123]\ttrain-mlogloss:1.02787\n",
      "[124]\ttrain-mlogloss:1.02743\n",
      "[125]\ttrain-mlogloss:1.02684\n",
      "[126]\ttrain-mlogloss:1.02639\n",
      "[127]\ttrain-mlogloss:1.02581\n",
      "[128]\ttrain-mlogloss:1.02531\n",
      "[129]\ttrain-mlogloss:1.02482\n",
      "[130]\ttrain-mlogloss:1.02434\n",
      "[131]\ttrain-mlogloss:1.02382\n",
      "[132]\ttrain-mlogloss:1.02326\n",
      "[133]\ttrain-mlogloss:1.02283\n",
      "[134]\ttrain-mlogloss:1.02234\n",
      "[135]\ttrain-mlogloss:1.022\n",
      "[136]\ttrain-mlogloss:1.02153\n",
      "[137]\ttrain-mlogloss:1.02107\n",
      "[138]\ttrain-mlogloss:1.02059\n",
      "[139]\ttrain-mlogloss:1.02011\n",
      "[140]\ttrain-mlogloss:1.01957\n",
      "[141]\ttrain-mlogloss:1.01903\n",
      "[142]\ttrain-mlogloss:1.01853\n",
      "[143]\ttrain-mlogloss:1.01798\n",
      "[144]\ttrain-mlogloss:1.01728\n",
      "[145]\ttrain-mlogloss:1.01679\n",
      "[146]\ttrain-mlogloss:1.0162\n",
      "[147]\ttrain-mlogloss:1.01566\n",
      "[148]\ttrain-mlogloss:1.01517\n",
      "[149]\ttrain-mlogloss:1.0147\n",
      "[150]\ttrain-mlogloss:1.01422\n",
      "[151]\ttrain-mlogloss:1.01365\n",
      "[152]\ttrain-mlogloss:1.01318\n",
      "[153]\ttrain-mlogloss:1.01263\n",
      "[154]\ttrain-mlogloss:1.01213\n",
      "[155]\ttrain-mlogloss:1.0117\n",
      "[156]\ttrain-mlogloss:1.01124\n",
      "[157]\ttrain-mlogloss:1.01072\n",
      "[158]\ttrain-mlogloss:1.0102\n",
      "[159]\ttrain-mlogloss:1.0097\n",
      "[160]\ttrain-mlogloss:1.00916\n",
      "[161]\ttrain-mlogloss:1.00858\n",
      "[162]\ttrain-mlogloss:1.00807\n",
      "[163]\ttrain-mlogloss:1.00753\n",
      "[164]\ttrain-mlogloss:1.00712\n",
      "[165]\ttrain-mlogloss:1.00656\n",
      "[166]\ttrain-mlogloss:1.00597\n",
      "[167]\ttrain-mlogloss:1.00531\n",
      "[168]\ttrain-mlogloss:1.00488\n",
      "[169]\ttrain-mlogloss:1.0043\n",
      "[170]\ttrain-mlogloss:1.00376\n",
      "[171]\ttrain-mlogloss:1.00316\n",
      "[172]\ttrain-mlogloss:1.00271\n",
      "[173]\ttrain-mlogloss:1.00216\n",
      "[174]\ttrain-mlogloss:1.00164\n",
      "[175]\ttrain-mlogloss:1.00108\n",
      "[176]\ttrain-mlogloss:1.00065\n",
      "[177]\ttrain-mlogloss:1.00004\n",
      "[178]\ttrain-mlogloss:0.999517\n",
      "[179]\ttrain-mlogloss:0.998981\n",
      "[180]\ttrain-mlogloss:0.998338\n",
      "[181]\ttrain-mlogloss:0.997798\n",
      "[182]\ttrain-mlogloss:0.997362\n",
      "[183]\ttrain-mlogloss:0.996962\n",
      "[184]\ttrain-mlogloss:0.996533\n",
      "[185]\ttrain-mlogloss:0.996119\n",
      "[186]\ttrain-mlogloss:0.995593\n",
      "[187]\ttrain-mlogloss:0.995181\n",
      "[188]\ttrain-mlogloss:0.99478\n",
      "[189]\ttrain-mlogloss:0.994178\n",
      "[190]\ttrain-mlogloss:0.993702\n",
      "[191]\ttrain-mlogloss:0.993072\n",
      "[192]\ttrain-mlogloss:0.992623\n",
      "[193]\ttrain-mlogloss:0.992178\n",
      "[194]\ttrain-mlogloss:0.991542\n",
      "[195]\ttrain-mlogloss:0.991125\n",
      "[196]\ttrain-mlogloss:0.990533\n",
      "[197]\ttrain-mlogloss:0.989906\n",
      "[198]\ttrain-mlogloss:0.9894\n",
      "[199]\ttrain-mlogloss:0.988901\n",
      "[200]\ttrain-mlogloss:0.988493\n",
      "[201]\ttrain-mlogloss:0.988088\n",
      "[202]\ttrain-mlogloss:0.987621\n",
      "[203]\ttrain-mlogloss:0.987069\n",
      "[204]\ttrain-mlogloss:0.986629\n",
      "[205]\ttrain-mlogloss:0.98609\n",
      "[206]\ttrain-mlogloss:0.985633\n",
      "[207]\ttrain-mlogloss:0.985153\n",
      "[208]\ttrain-mlogloss:0.984512\n",
      "[209]\ttrain-mlogloss:0.98398\n",
      "[210]\ttrain-mlogloss:0.983555\n",
      "[211]\ttrain-mlogloss:0.983158\n",
      "[212]\ttrain-mlogloss:0.982824\n",
      "[213]\ttrain-mlogloss:0.982401\n",
      "[214]\ttrain-mlogloss:0.981818\n",
      "[215]\ttrain-mlogloss:0.981446\n",
      "[216]\ttrain-mlogloss:0.980932\n",
      "[217]\ttrain-mlogloss:0.980525\n",
      "[218]\ttrain-mlogloss:0.980115\n",
      "[219]\ttrain-mlogloss:0.979609\n",
      "[220]\ttrain-mlogloss:0.979115\n",
      "[221]\ttrain-mlogloss:0.978689\n",
      "[222]\ttrain-mlogloss:0.978278\n",
      "[223]\ttrain-mlogloss:0.977893\n",
      "[224]\ttrain-mlogloss:0.977519\n",
      "[225]\ttrain-mlogloss:0.97703\n",
      "[226]\ttrain-mlogloss:0.976573\n",
      "[227]\ttrain-mlogloss:0.976153\n",
      "[228]\ttrain-mlogloss:0.975649\n",
      "[229]\ttrain-mlogloss:0.975215\n"
     ]
    }
   ],
   "source": [
    "best_ntree_limit = int(best_ntree_limit * (len(XY_trn) + len(XY_vld)) / len(XY_trn))\n",
    "print(best_ntree_limit)\n",
    "print(model.best_ntree_limit)\n",
    "model = xgb.train(param, dall, num_boost_round=best_ntree_limit, evals=watch_list)"
   ]
  },
  {
   "cell_type": "code",
   "execution_count": 45,
   "metadata": {
    "scrolled": true
   },
   "outputs": [
    {
     "name": "stdout",
     "output_type": "stream",
     "text": [
      "Feature importance:\n",
      "('renta', 19730)\n",
      "('age', 18438)\n",
      "('antiguedad', 17211)\n",
      "('age_prev', 12567)\n",
      "('antiguedad_prev', 11923)\n",
      "('fecha_alta_month', 11172)\n",
      "('nomprov', 10859)\n",
      "('fecha_alta_year', 8926)\n",
      "('renta_prev', 7657)\n",
      "('canal_entrada', 7381)\n",
      "('nomprov_prev', 6147)\n",
      "('canal_entrada_prev', 4386)\n",
      "('fecha_alta_month_prev', 4030)\n",
      "('sexo', 3227)\n",
      "('ind_recibo_ult1_prev', 3215)\n",
      "('fecha_alta_year_prev', 3147)\n",
      "('ind_ecue_fin_ult1_prev', 3022)\n",
      "('ind_cco_fin_ult1_prev', 2908)\n",
      "('ind_cno_fin_ult1_prev', 2709)\n",
      "('segmento', 2175)\n",
      "('ind_reca_fin_ult1_prev', 1998)\n",
      "('ind_tjcr_fin_ult1_prev', 1994)\n",
      "('segmento_prev', 1874)\n",
      "('ind_nom_pens_ult1_prev', 1623)\n",
      "('tiprel_1mes', 1545)\n",
      "('ind_nomina_ult1_prev', 1522)\n",
      "('ind_valo_fin_ult1_prev', 1506)\n",
      "('ind_dela_fin_ult1_prev', 1436)\n",
      "('ind_ctop_fin_ult1_prev', 1348)\n",
      "('ind_actividad_cliente', 1252)\n",
      "('sexo_prev', 1184)\n",
      "('tiprel_1mes_prev', 1143)\n",
      "('ind_ctpp_fin_ult1_prev', 1108)\n",
      "('ind_fond_fin_ult1_prev', 982)\n",
      "('ind_actividad_cliente_prev', 870)\n",
      "('ind_ctma_fin_ult1_prev', 856)\n",
      "('indext', 746)\n",
      "('ind_nuevo', 690)\n",
      "('ind_plan_fin_ult1_prev', 612)\n",
      "('ind_hip_fin_ult1_prev', 509)\n",
      "('ind_nuevo_prev', 385)\n",
      "('indrel_1mes', 383)\n",
      "('ind_deco_fin_ult1_prev', 369)\n",
      "('indext_prev', 361)\n",
      "('pais_residencia', 190)\n",
      "('ind_viv_fin_ult1_prev', 174)\n",
      "('indrel_1mes_prev', 172)\n",
      "('ind_empleado_prev', 164)\n",
      "('indrel', 159)\n",
      "('ind_empleado', 143)\n",
      "('pais_residencia_prev', 123)\n",
      "('ind_deme_fin_ult1_prev', 111)\n",
      "('ind_ctju_fin_ult1_prev', 76)\n",
      "('ind_pres_fin_ult1_prev', 70)\n",
      "('ult_fec_cli_1t_month', 49)\n",
      "('indfall', 40)\n",
      "('ind_cder_fin_ult1_prev', 32)\n",
      "('conyuemp_prev', 20)\n",
      "('indfall_prev', 18)\n",
      "('ult_fec_cli_1t_year', 18)\n",
      "('indresi_prev', 13)\n",
      "('indresi', 12)\n",
      "('conyuemp', 5)\n"
     ]
    }
   ],
   "source": [
    "print(\"Feature importance:\")\n",
    "for kv in sorted([(k,v) for k,v in model.get_fscore().items()], key=lambda kv: kv[1], reverse=True):\n",
    "    print(kv)"
   ]
  },
  {
   "cell_type": "code",
   "execution_count": 48,
   "metadata": {},
   "outputs": [
    {
     "name": "stderr",
     "output_type": "stream",
     "text": [
      "E:\\ProgramData\\Anaconda3\\envs\\dsc\\lib\\site-packages\\ipykernel_launcher.py:1: FutureWarning: Method .as_matrix will be removed in a future version. Use .values instead.\n",
      "  \"\"\"Entry point for launching an IPython kernel.\n"
     ]
    }
   ],
   "source": [
    "X_tst = tst.as_matrix(columns=features)\n",
    "dtst = xgb.DMatrix(X_tst, feature_names=features)\n",
    "preds_tst = model.predict(dtst, ntree_limit=best_ntree_limit)"
   ]
  },
  {
   "cell_type": "code",
   "execution_count": 49,
   "metadata": {
    "scrolled": true
   },
   "outputs": [
    {
     "name": "stderr",
     "output_type": "stream",
     "text": [
      "E:\\ProgramData\\Anaconda3\\envs\\dsc\\lib\\site-packages\\ipykernel_launcher.py:1: FutureWarning: Method .as_matrix will be removed in a future version. Use .values instead.\n",
      "  \"\"\"Entry point for launching an IPython kernel.\n",
      "E:\\ProgramData\\Anaconda3\\envs\\dsc\\lib\\site-packages\\ipykernel_launcher.py:2: FutureWarning: Method .as_matrix will be removed in a future version. Use .values instead.\n",
      "  \n"
     ]
    }
   ],
   "source": [
    "ncodpers_tst = tst.as_matrix(columns=['ncodpers'])\n",
    "preds_tst = preds_tst - tst.as_matrix(columns=[prod + '_prev' for prod in prods])"
   ]
  },
  {
   "cell_type": "markdown",
   "metadata": {},
   "source": [
    "# Save Final model"
   ]
  },
  {
   "cell_type": "code",
   "execution_count": 50,
   "metadata": {},
   "outputs": [],
   "source": [
    "pickle.dump(model, open(\"model/xgb.baseline_total.pkl\", \"wb\"))"
   ]
  },
  {
   "cell_type": "code",
   "execution_count": null,
   "metadata": {},
   "outputs": [],
   "source": [
    "preds_vld = model.predict(dvld, ntree_limit=best_ntree_limit)\n",
    "preds_vld = preds_vld - vld.as_matrix(columns=[prod + '_prev' for prod in prods])\n",
    "result_vld = []\n",
    "for ncodper, pred in zip(ncodpers_vld, preds_vld):\n",
    "    y_prods = [(y, p, ip) for y,p,ip in zip(pred, prods, range(len(prods)))]\n",
    "    y_prods = sorted(y_prods, key=lambda a: a[0], reverse=True)[:7]\n",
    "    result_vld.append([ip for y,p,ip in y_prods])\n",
    "print(mapk(add_vld_list, result_vld, 7, 0.0))"
   ]
  },
  {
   "cell_type": "markdown",
   "metadata": {},
   "source": [
    "# Create submit file"
   ]
  },
  {
   "cell_type": "code",
   "execution_count": 51,
   "metadata": {},
   "outputs": [],
   "source": [
    "submit_file = open('model/xgb.baseline.2019-06-18_baseline2', 'w')\n",
    "submit_file.write('ncodpers,added_products\\n')\n",
    "count = 0\n",
    "for ncodper, pred in zip(ncodpers_tst, preds_tst):\n",
    "    y_prods = [(y,p,ip) for y, p, ip in zip(pred, prods, range(len(prods)))]\n",
    "    y_prods = sorted(y_prods, key=lambda a: a[0], reverse=True)[:7]\n",
    "    y_prods = [p for y,p,ip in y_prods]\n",
    "    submit_file.write('{},{}\\n'.format(int(ncodper), ' '.join(y_prods)))\n",
    "submit_file.close()"
   ]
  },
  {
   "cell_type": "code",
   "execution_count": null,
   "metadata": {},
   "outputs": [],
   "source": []
  }
 ],
 "metadata": {
  "kernelspec": {
   "display_name": "Python 3",
   "language": "python",
   "name": "python3"
  },
  "language_info": {
   "codemirror_mode": {
    "name": "ipython",
    "version": 3
   },
   "file_extension": ".py",
   "mimetype": "text/x-python",
   "name": "python",
   "nbconvert_exporter": "python",
   "pygments_lexer": "ipython3",
   "version": "3.5.5"
  }
 },
 "nbformat": 4,
 "nbformat_minor": 2
}
